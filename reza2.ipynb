{
  "cells": [
    {
      "cell_type": "code",
      "execution_count": null,
      "metadata": {
        "id": "aBOoof3KZcGp"
      },
      "outputs": [],
      "source": [
        "a=3"
      ]
    },
    {
      "cell_type": "code",
      "execution_count": null,
      "metadata": {
        "colab": {
          "base_uri": "https://localhost:8080/"
        },
        "id": "6s_is24ta0Pc",
        "outputId": "58f342ef-5fa6-4d14-b325-127adda2929b"
      },
      "outputs": [
        {
          "name": "stdout",
          "output_type": "stream",
          "text": [
            "3\n"
          ]
        }
      ],
      "source": [
        "print(a)"
      ]
    },
    {
      "cell_type": "code",
      "execution_count": null,
      "metadata": {
        "colab": {
          "base_uri": "https://localhost:8080/"
        },
        "id": "WVlSHZ_7bn1H",
        "outputId": "6aa2d8df-13ce-4028-8617-0c677ab3709a"
      },
      "outputs": [
        {
          "data": {
            "text/plain": [
              "5"
            ]
          },
          "execution_count": 6,
          "metadata": {},
          "output_type": "execute_result"
        }
      ],
      "source": [
        "2+3"
      ]
    },
    {
      "cell_type": "code",
      "execution_count": null,
      "metadata": {
        "colab": {
          "base_uri": "https://localhost:8080/"
        },
        "id": "aFQDNmLubp8f",
        "outputId": "3f655dd6-343a-48f8-a458-a59aa87ee940"
      },
      "outputs": [
        {
          "data": {
            "text/plain": [
              "30"
            ]
          },
          "execution_count": 7,
          "metadata": {},
          "output_type": "execute_result"
        }
      ],
      "source": [
        "6*5"
      ]
    },
    {
      "cell_type": "code",
      "execution_count": null,
      "metadata": {
        "colab": {
          "base_uri": "https://localhost:8080/"
        },
        "id": "B98-28Qpbrp3",
        "outputId": "20c94f85-807a-4f42-d790-44b5cf50ba46"
      },
      "outputs": [
        {
          "data": {
            "text/plain": [
              "5.0"
            ]
          },
          "execution_count": 8,
          "metadata": {},
          "output_type": "execute_result"
        }
      ],
      "source": [
        "10/2"
      ]
    },
    {
      "cell_type": "code",
      "execution_count": null,
      "metadata": {
        "colab": {
          "base_uri": "https://localhost:8080/"
        },
        "id": "n_LvOOFubuvD",
        "outputId": "d3cdfe3b-23ee-43b7-fda8-4e0e8899efd3"
      },
      "outputs": [
        {
          "data": {
            "text/plain": [
              "5"
            ]
          },
          "execution_count": 9,
          "metadata": {},
          "output_type": "execute_result"
        }
      ],
      "source": [
        "10//2"
      ]
    },
    {
      "cell_type": "code",
      "execution_count": null,
      "metadata": {
        "colab": {
          "base_uri": "https://localhost:8080/"
        },
        "id": "RXKjUccFbw2_",
        "outputId": "80a72b20-d91f-429f-eab9-e2a2274150bf"
      },
      "outputs": [
        {
          "data": {
            "text/plain": [
              "3125"
            ]
          },
          "execution_count": 10,
          "metadata": {},
          "output_type": "execute_result"
        }
      ],
      "source": [
        "5**5"
      ]
    },
    {
      "cell_type": "code",
      "execution_count": null,
      "metadata": {
        "colab": {
          "base_uri": "https://localhost:8080/"
        },
        "id": "MkRr1BXvdG91",
        "outputId": "1133f702-e2c0-46e4-e938-42aa2cc3a9fc"
      },
      "outputs": [
        {
          "data": {
            "text/plain": [
              "4"
            ]
          },
          "execution_count": 11,
          "metadata": {},
          "output_type": "execute_result"
        }
      ],
      "source": [
        "7-3"
      ]
    },
    {
      "cell_type": "code",
      "execution_count": null,
      "metadata": {
        "id": "2e_PYXKpdp6c"
      },
      "outputs": [],
      "source": [
        "a=30"
      ]
    },
    {
      "cell_type": "code",
      "execution_count": null,
      "metadata": {
        "colab": {
          "base_uri": "https://localhost:8080/"
        },
        "id": "e5J_oldWduj4",
        "outputId": "3640435b-f1de-4d14-f487-a5a6a18f2c5a"
      },
      "outputs": [
        {
          "data": {
            "text/plain": [
              "30"
            ]
          },
          "execution_count": 13,
          "metadata": {},
          "output_type": "execute_result"
        }
      ],
      "source": [
        "a"
      ]
    },
    {
      "cell_type": "code",
      "execution_count": null,
      "metadata": {
        "colab": {
          "base_uri": "https://localhost:8080/"
        },
        "id": "CuT_6Ss_d-9I",
        "outputId": "399f4a68-42c3-417b-c437-c3d767bd37e2"
      },
      "outputs": [
        {
          "data": {
            "text/plain": [
              "0"
            ]
          },
          "execution_count": 14,
          "metadata": {},
          "output_type": "execute_result"
        }
      ],
      "source": [
        "10%2"
      ]
    },
    {
      "cell_type": "code",
      "execution_count": null,
      "metadata": {
        "colab": {
          "base_uri": "https://localhost:8080/"
        },
        "id": "LDFthhvTeDDw",
        "outputId": "f21868ee-bf9c-42f6-bcab-4ce93db6fa64"
      },
      "outputs": [
        {
          "data": {
            "text/plain": [
              "2"
            ]
          },
          "execution_count": 15,
          "metadata": {},
          "output_type": "execute_result"
        }
      ],
      "source": [
        "6%4"
      ]
    },
    {
      "cell_type": "markdown",
      "metadata": {
        "id": "IHbUyzMjeJbj"
      },
      "source": [
        "**در اینجا ما یاد گرفتیم اعداد یا کلمه ها را به متغیر هایی نسبت دهیم و پرینت بگیریم و همینطور عملیات ریاضی را انجام دهیم که الویت عملگر های ریاضی در پایتون به ترتیب زیر است:**\n",
        "*\n",
        "1. +\n",
        "2. -\n",
        "3. *\n",
        "4. /\n",
        "5. %\n",
        "6. **\n",
        "7. // \n",
        "\n",
        "*"
      ]
    },
    {
      "cell_type": "code",
      "execution_count": null,
      "metadata": {
        "colab": {
          "base_uri": "https://localhost:8080/"
        },
        "id": "wk2wlPW_gC0h",
        "outputId": "e86f6ec9-219c-4acf-984f-7c0bc34a5ae0"
      },
      "outputs": [
        {
          "data": {
            "text/plain": [
              "1"
            ]
          },
          "execution_count": 16,
          "metadata": {},
          "output_type": "execute_result"
        }
      ],
      "source": [
        "5%2"
      ]
    },
    {
      "cell_type": "code",
      "execution_count": null,
      "metadata": {
        "colab": {
          "base_uri": "https://localhost:8080/"
        },
        "id": "gulm2dERgtSr",
        "outputId": "703a8c3a-f7ea-4fc4-90e5-b56519c59eb3"
      },
      "outputs": [
        {
          "data": {
            "text/plain": [
              "100"
            ]
          },
          "execution_count": 17,
          "metadata": {},
          "output_type": "execute_result"
        }
      ],
      "source": [
        "(6+4)*(5*2)"
      ]
    },
    {
      "cell_type": "markdown",
      "metadata": {
        "id": "XISFcSsqg5P4"
      },
      "source": [
        "**Variable Assignment\n",
        "Python Variable Names: A variable name must start with a letter or the underscore character. A variable name cannot start with a number. A variable name can only contain alpha-numeric characters and underscores (A-z, 0-9, and _ ) Variable names are case-sensitive (age, Age and AGE are three different variables)**"
      ]
    },
    {
      "cell_type": "markdown",
      "metadata": {
        "id": "mEJXVRsDhEDn"
      },
      "source": [
        "# Can not start with number or special characters\n",
        "\n",
        "name_of_var = 2"
      ]
    },
    {
      "cell_type": "code",
      "execution_count": null,
      "metadata": {
        "id": "e6g5OshwhMqI"
      },
      "outputs": [],
      "source": [
        "x=9\n",
        "y=6"
      ]
    },
    {
      "cell_type": "code",
      "execution_count": null,
      "metadata": {
        "id": "mAK1nb2vhVbZ"
      },
      "outputs": [],
      "source": [
        "z=x*y"
      ]
    },
    {
      "cell_type": "code",
      "execution_count": null,
      "metadata": {
        "colab": {
          "base_uri": "https://localhost:8080/"
        },
        "id": "6W34rdV-hZGo",
        "outputId": "2593ee09-38f8-445d-9156-c88338b996bc"
      },
      "outputs": [
        {
          "data": {
            "text/plain": [
              "54"
            ]
          },
          "execution_count": 20,
          "metadata": {},
          "output_type": "execute_result"
        }
      ],
      "source": [
        "z"
      ]
    },
    {
      "cell_type": "markdown",
      "metadata": {
        "id": "GdzKJC2MhdSr"
      },
      "source": [
        "**Strings**\n",
        "\n",
        "**رشته‌ها در پایتون را می‌توان با قرار دادن کاراکترها در میان جفت نقل قول تک انگلیسی (”) یا جفت نقل قول جفت انگلیسی (“”) ساخت**"
      ]
    },
    {
      "cell_type": "markdown",
      "metadata": {
        "id": "6vV0YgG5hzJs"
      },
      "source": [
        "'single quotes'\n",
        "\n",
        "\"double quotes\"\n",
        "\n",
        "\" wrap lot's of other quotes\""
      ]
    },
    {
      "cell_type": "markdown",
      "metadata": {
        "id": "X7UgMUWmh7yT"
      },
      "source": [
        "**تمرین:**\n",
        "\n",
        "**یک رشته با شش کاراکتر ساخته و به یک متغییر دلخواه نسبت دهید؟**"
      ]
    },
    {
      "cell_type": "code",
      "execution_count": null,
      "metadata": {
        "id": "MGgvWbQgiHcC"
      },
      "outputs": [],
      "source": [
        "txt=\"my name is Reza. i love norway.\"\n"
      ]
    },
    {
      "cell_type": "code",
      "execution_count": null,
      "metadata": {
        "colab": {
          "base_uri": "https://localhost:8080/",
          "height": 35
        },
        "id": "lw2B_lCviUOK",
        "outputId": "84c50080-a93f-47a6-9131-c611ec60034a"
      },
      "outputs": [
        {
          "data": {
            "application/vnd.google.colaboratory.intrinsic+json": {
              "type": "string"
            },
            "text/plain": [
              "'my name is Reza. i love norway.'"
            ]
          },
          "execution_count": 22,
          "metadata": {},
          "output_type": "execute_result"
        }
      ],
      "source": [
        "txt"
      ]
    },
    {
      "cell_type": "markdown",
      "metadata": {
        "id": "sEOoMekejay0"
      },
      "source": []
    },
    {
      "cell_type": "code",
      "execution_count": null,
      "metadata": {
        "id": "dPBRQO_2jLK5"
      },
      "outputs": [],
      "source": [
        "ul=\"pythonisgoodlanguageforworld \""
      ]
    },
    {
      "cell_type": "code",
      "execution_count": null,
      "metadata": {
        "colab": {
          "base_uri": "https://localhost:8080/",
          "height": 35
        },
        "id": "VV8ojoX6jYzD",
        "outputId": "f81ea485-8bc6-4f15-f1d2-84399cdcd52d"
      },
      "outputs": [
        {
          "data": {
            "application/vnd.google.colaboratory.intrinsic+json": {
              "type": "string"
            },
            "text/plain": [
              "'python'"
            ]
          },
          "execution_count": 24,
          "metadata": {},
          "output_type": "execute_result"
        }
      ],
      "source": [
        "ul[0:6]"
      ]
    },
    {
      "cell_type": "code",
      "execution_count": null,
      "metadata": {
        "colab": {
          "base_uri": "https://localhost:8080/",
          "height": 35
        },
        "id": "eD4CrgoDjgLH",
        "outputId": "9a1ee44a-eeb9-45bf-ebdf-d68ef1bed23e"
      },
      "outputs": [
        {
          "data": {
            "application/vnd.google.colaboratory.intrinsic+json": {
              "type": "string"
            },
            "text/plain": [
              "'pythonisgoodlanguageforworld'"
            ]
          },
          "execution_count": 25,
          "metadata": {},
          "output_type": "execute_result"
        }
      ],
      "source": [
        "ul[:28]"
      ]
    },
    {
      "cell_type": "code",
      "execution_count": null,
      "metadata": {
        "colab": {
          "base_uri": "https://localhost:8080/",
          "height": 35
        },
        "id": "Koxt2bKkjoKz",
        "outputId": "a0abaf06-b64c-4151-f968-0c9876d3b15b"
      },
      "outputs": [
        {
          "data": {
            "application/vnd.google.colaboratory.intrinsic+json": {
              "type": "string"
            },
            "text/plain": [
              "'pythonisgoodlanguageforworld'"
            ]
          },
          "execution_count": 26,
          "metadata": {},
          "output_type": "execute_result"
        }
      ],
      "source": [
        "ul[0:]"
      ]
    },
    {
      "cell_type": "code",
      "execution_count": null,
      "metadata": {
        "colab": {
          "base_uri": "https://localhost:8080/",
          "height": 35
        },
        "id": "0nt-CX-njs2t",
        "outputId": "2691276f-f7da-4f20-cfdb-6a29caea9442"
      },
      "outputs": [
        {
          "data": {
            "application/vnd.google.colaboratory.intrinsic+json": {
              "type": "string"
            },
            "text/plain": [
              "'good'"
            ]
          },
          "execution_count": 27,
          "metadata": {},
          "output_type": "execute_result"
        }
      ],
      "source": [
        "ul[8:12]"
      ]
    },
    {
      "cell_type": "code",
      "execution_count": null,
      "metadata": {
        "colab": {
          "base_uri": "https://localhost:8080/",
          "height": 35
        },
        "id": "Zjn6wJFUj0TD",
        "outputId": "77c32690-3d31-4b3e-ac8d-bbdbadb9e70f"
      },
      "outputs": [
        {
          "data": {
            "application/vnd.google.colaboratory.intrinsic+json": {
              "type": "string"
            },
            "text/plain": [
              "'world'"
            ]
          },
          "execution_count": 32,
          "metadata": {},
          "output_type": "execute_result"
        }
      ],
      "source": [
        "ul[-6:-1]"
      ]
    },
    {
      "cell_type": "code",
      "execution_count": null,
      "metadata": {
        "colab": {
          "base_uri": "https://localhost:8080/",
          "height": 35
        },
        "id": "osagNzYLkM0H",
        "outputId": "7b631622-abe5-439f-ebb5-4bf8f40a0733"
      },
      "outputs": [
        {
          "data": {
            "application/vnd.google.colaboratory.intrinsic+json": {
              "type": "string"
            },
            "text/plain": [
              "'pythonisgoodlanguageforworld'"
            ]
          },
          "execution_count": 33,
          "metadata": {},
          "output_type": "execute_result"
        }
      ],
      "source": [
        "ul[:-1]"
      ]
    },
    {
      "cell_type": "code",
      "execution_count": null,
      "metadata": {
        "colab": {
          "base_uri": "https://localhost:8080/",
          "height": 35
        },
        "id": "CVcqpgNVkR90",
        "outputId": "ed376bff-cf6b-4a0a-c7be-24b9247725d9"
      },
      "outputs": [
        {
          "data": {
            "application/vnd.google.colaboratory.intrinsic+json": {
              "type": "string"
            },
            "text/plain": [
              "'guageforworld '"
            ]
          },
          "execution_count": 34,
          "metadata": {},
          "output_type": "execute_result"
        }
      ],
      "source": [
        "ul[-14:]"
      ]
    },
    {
      "cell_type": "code",
      "execution_count": null,
      "metadata": {
        "id": "nBIkN6whkaSz"
      },
      "outputs": [],
      "source": [
        "da=\"1401-6-30\""
      ]
    },
    {
      "cell_type": "code",
      "execution_count": null,
      "metadata": {
        "colab": {
          "base_uri": "https://localhost:8080/",
          "height": 35
        },
        "id": "S8JzmY8akmLM",
        "outputId": "7cb01408-3be7-4944-9f9b-6e60587f2008"
      },
      "outputs": [
        {
          "data": {
            "application/vnd.google.colaboratory.intrinsic+json": {
              "type": "string"
            },
            "text/plain": [
              "'1401'"
            ]
          },
          "execution_count": 36,
          "metadata": {},
          "output_type": "execute_result"
        }
      ],
      "source": [
        "da[0:4]"
      ]
    },
    {
      "cell_type": "code",
      "execution_count": null,
      "metadata": {
        "colab": {
          "base_uri": "https://localhost:8080/",
          "height": 35
        },
        "id": "oPr28HjCkq6h",
        "outputId": "eded1a9b-aaa3-4da7-972b-a2ab5cec35a3"
      },
      "outputs": [
        {
          "data": {
            "application/vnd.google.colaboratory.intrinsic+json": {
              "type": "string"
            },
            "text/plain": [
              "'3'"
            ]
          },
          "execution_count": 37,
          "metadata": {},
          "output_type": "execute_result"
        }
      ],
      "source": [
        "da[-2:-1]"
      ]
    },
    {
      "cell_type": "code",
      "execution_count": null,
      "metadata": {
        "colab": {
          "base_uri": "https://localhost:8080/",
          "height": 35
        },
        "id": "ESSit9a0kxnK",
        "outputId": "bf315d6c-3ed8-4b28-cd6b-81494b92f777"
      },
      "outputs": [
        {
          "data": {
            "application/vnd.google.colaboratory.intrinsic+json": {
              "type": "string"
            },
            "text/plain": [
              "'-'"
            ]
          },
          "execution_count": 38,
          "metadata": {},
          "output_type": "execute_result"
        }
      ],
      "source": [
        "da[-3]"
      ]
    },
    {
      "cell_type": "markdown",
      "metadata": {
        "id": "7JEiA4e0k3l0"
      },
      "source": [
        "**نتیجه میگیریم با استفاده از اندیس ها میتوانیم بخشی خاصی از رشته که مد نظر خودمان هست را برش دهیم یعنی برش رشته ها با استفاده از اندیس ها**"
      ]
    },
    {
      "cell_type": "markdown",
      "metadata": {
        "id": "C_rIjTo4lc4n"
      },
      "source": [
        "**Printing**\n",
        "\n",
        "**متد فرمت**"
      ]
    },
    {
      "cell_type": "code",
      "execution_count": null,
      "metadata": {
        "id": "Ix8Z_ISNlkah"
      },
      "outputs": [],
      "source": [
        "f=\"reza\"\n",
        "g=10"
      ]
    },
    {
      "cell_type": "code",
      "execution_count": null,
      "metadata": {
        "colab": {
          "base_uri": "https://localhost:8080/",
          "height": 35
        },
        "id": "S3YhKFJtlrdc",
        "outputId": "a576c438-1738-40b0-ca84-18941ae91138"
      },
      "outputs": [
        {
          "data": {
            "application/vnd.google.colaboratory.intrinsic+json": {
              "type": "string"
            },
            "text/plain": [
              "'reza'"
            ]
          },
          "execution_count": 40,
          "metadata": {},
          "output_type": "execute_result"
        }
      ],
      "source": [
        "f"
      ]
    },
    {
      "cell_type": "code",
      "execution_count": null,
      "metadata": {
        "colab": {
          "base_uri": "https://localhost:8080/"
        },
        "id": "AzVC2GwyltDI",
        "outputId": "528c97a1-c953-466c-80f2-c462cb4d6af1"
      },
      "outputs": [
        {
          "name": "stdout",
          "output_type": "stream",
          "text": [
            "reza\n"
          ]
        }
      ],
      "source": [
        "print(f)"
      ]
    },
    {
      "cell_type": "code",
      "execution_count": null,
      "metadata": {
        "colab": {
          "base_uri": "https://localhost:8080/"
        },
        "id": "Fyo_C0twlvVL",
        "outputId": "64bd66f2-63ba-446b-e386-1d9675dd720a"
      },
      "outputs": [
        {
          "data": {
            "text/plain": [
              "10"
            ]
          },
          "execution_count": 42,
          "metadata": {},
          "output_type": "execute_result"
        }
      ],
      "source": [
        "g"
      ]
    },
    {
      "cell_type": "code",
      "execution_count": null,
      "metadata": {
        "colab": {
          "base_uri": "https://localhost:8080/"
        },
        "id": "OVoUJtsBlxLr",
        "outputId": "fbb6af75-6d12-44ae-a56e-0d194298ec28"
      },
      "outputs": [
        {
          "name": "stdout",
          "output_type": "stream",
          "text": [
            "10\n"
          ]
        }
      ],
      "source": [
        "print(g)"
      ]
    },
    {
      "cell_type": "code",
      "execution_count": null,
      "metadata": {
        "id": "j_dbUFj6l4Fi"
      },
      "outputs": [],
      "source": [
        "sport=\"football\"\n",
        "team=\"perspolis\"\n",
        "today=30"
      ]
    },
    {
      "cell_type": "code",
      "execution_count": null,
      "metadata": {
        "id": "PppnvFvGmWPj"
      },
      "outputs": [],
      "source": [
        "matn=\"i often play {}.i love {}.today is {} shahrivar.\".format(sport , team , today)\n"
      ]
    },
    {
      "cell_type": "code",
      "execution_count": null,
      "metadata": {
        "colab": {
          "base_uri": "https://localhost:8080/"
        },
        "id": "yuIKxP1Nm3qe",
        "outputId": "f96bbe20-da64-4856-d8ae-bf0acbff56b0"
      },
      "outputs": [
        {
          "name": "stdout",
          "output_type": "stream",
          "text": [
            "i often play football.i love perspolis.today is 30 shahrivar.\n"
          ]
        }
      ],
      "source": [
        "print(matn)"
      ]
    },
    {
      "cell_type": "markdown",
      "metadata": {
        "id": "wWbsW2VhoqJJ"
      },
      "source": [
        "**تمرین-1**"
      ]
    },
    {
      "cell_type": "code",
      "execution_count": null,
      "metadata": {
        "id": "acUY7td_otAr"
      },
      "outputs": [],
      "source": [
        "lst_1=[1,2,3,4]"
      ]
    },
    {
      "cell_type": "code",
      "execution_count": null,
      "metadata": {
        "colab": {
          "base_uri": "https://localhost:8080/"
        },
        "id": "ZlMb7aGFozUf",
        "outputId": "9b03e20e-18cc-4b5d-b14c-7ee533b1a66e"
      },
      "outputs": [
        {
          "data": {
            "text/plain": [
              "3"
            ]
          },
          "execution_count": 48,
          "metadata": {},
          "output_type": "execute_result"
        }
      ],
      "source": [
        "lst_1[2]"
      ]
    },
    {
      "cell_type": "code",
      "execution_count": null,
      "metadata": {
        "colab": {
          "base_uri": "https://localhost:8080/"
        },
        "id": "L90t9AQko4Si",
        "outputId": "8daccc5a-b6e2-4fce-8bfa-dd1b4a355d39"
      },
      "outputs": [
        {
          "data": {
            "text/plain": [
              "4"
            ]
          },
          "execution_count": 49,
          "metadata": {},
          "output_type": "execute_result"
        }
      ],
      "source": [
        "len(lst_1)"
      ]
    },
    {
      "cell_type": "code",
      "execution_count": null,
      "metadata": {
        "colab": {
          "base_uri": "https://localhost:8080/"
        },
        "id": "f4xRD_RJo8oi",
        "outputId": "cffc4437-ebbc-48c3-db10-32860ff9dd8d"
      },
      "outputs": [
        {
          "data": {
            "text/plain": [
              "[1, 2, 3, 4]"
            ]
          },
          "execution_count": 50,
          "metadata": {},
          "output_type": "execute_result"
        }
      ],
      "source": [
        "lst_1"
      ]
    },
    {
      "cell_type": "code",
      "execution_count": null,
      "metadata": {
        "id": "cMkMe_mtpAF9"
      },
      "outputs": [],
      "source": [
        "lst_1.append(5)"
      ]
    },
    {
      "cell_type": "code",
      "execution_count": null,
      "metadata": {
        "colab": {
          "base_uri": "https://localhost:8080/"
        },
        "id": "zeSIcRMdpFtq",
        "outputId": "bbc22240-d86e-4f7e-b708-408efa857b0b"
      },
      "outputs": [
        {
          "data": {
            "text/plain": [
              "[1, 2, 3, 4, 5]"
            ]
          },
          "execution_count": 52,
          "metadata": {},
          "output_type": "execute_result"
        }
      ],
      "source": [
        "lst_1"
      ]
    },
    {
      "cell_type": "code",
      "execution_count": null,
      "metadata": {
        "colab": {
          "base_uri": "https://localhost:8080/"
        },
        "id": "i7_8uaUUpJJG",
        "outputId": "b4faf7de-273d-45dd-e1b6-2186917d368d"
      },
      "outputs": [
        {
          "data": {
            "text/plain": [
              "5"
            ]
          },
          "execution_count": 53,
          "metadata": {},
          "output_type": "execute_result"
        }
      ],
      "source": [
        "len(lst_1)"
      ]
    },
    {
      "cell_type": "markdown",
      "metadata": {
        "id": "hmGrhkXTpNC-"
      },
      "source": [
        "**در ابتدا یک لیت با 4 مقدار داریم که با استفاده از تابع**\n",
        "\n",
        "**len()**\n",
        "\n",
        "**میتوانیم طول لیست رامشخص کنیم ابتدا طول رشته ما 4 است سپس با متد**\n",
        "\n",
        "**append()**\n",
        "\n",
        "**که وقتی انرا برای لیست استفاده میکنیم مقداری را به اخر لیست اضافه میکند و بعد از اضافه شدن دوباره از تابع**\n",
        "\n",
        "**len()**\n",
        "\n",
        "**استفاده میکنیم انگاه بعد از اجرا طول رشته را 5 نشان میدهد**\n",
        "\n",
        "**در رابطه با کد**\n",
        "\n",
        "**lst_1[2]**\n",
        "\n",
        "**میتوانیم با استفاده از اندیس ها به عناصر لیست دسترسی داشته باشیم که در کد بالا مقدار اندیس 2 عدد 3 میباشد**\n",
        "\n"
      ]
    },
    {
      "cell_type": "markdown",
      "metadata": {
        "id": "cr7kR9XCq8Je"
      },
      "source": [
        "\n",
        "\n",
        "**تمرین 2:**"
      ]
    },
    {
      "cell_type": "code",
      "execution_count": 1,
      "metadata": {
        "id": "Xhb7etIQrKcM"
      },
      "outputs": [],
      "source": [
        "gh=[\"reza\" , 56 , [15,5,9]]"
      ]
    },
    {
      "cell_type": "code",
      "execution_count": 2,
      "metadata": {
        "colab": {
          "base_uri": "https://localhost:8080/"
        },
        "id": "NT-h-SFK918D",
        "outputId": "76cb8002-1b19-4ed2-8cc2-f77c6599ce87"
      },
      "outputs": [
        {
          "data": {
            "text/plain": [
              "[15, 5, 9]"
            ]
          },
          "execution_count": 2,
          "metadata": {},
          "output_type": "execute_result"
        }
      ],
      "source": [
        "gh_1=gh[2]\n",
        "gh_1"
      ]
    },
    {
      "cell_type": "code",
      "execution_count": 3,
      "metadata": {
        "colab": {
          "base_uri": "https://localhost:8080/"
        },
        "id": "FvS35GB9-HMz",
        "outputId": "d649d303-e352-4221-8db1-33cf614fd1f0"
      },
      "outputs": [
        {
          "data": {
            "text/plain": [
              "5"
            ]
          },
          "execution_count": 3,
          "metadata": {},
          "output_type": "execute_result"
        }
      ],
      "source": [
        "gh_1[1]"
      ]
    },
    {
      "cell_type": "code",
      "execution_count": 4,
      "metadata": {
        "colab": {
          "base_uri": "https://localhost:8080/"
        },
        "id": "pkpaPHtH-P3C",
        "outputId": "bd56afd6-5a56-4e67-94c3-9666b7ddab6b"
      },
      "outputs": [
        {
          "data": {
            "text/plain": [
              "5"
            ]
          },
          "execution_count": 4,
          "metadata": {},
          "output_type": "execute_result"
        }
      ],
      "source": [
        "gh[2][1]"
      ]
    },
    {
      "cell_type": "code",
      "execution_count": 6,
      "metadata": {
        "colab": {
          "base_uri": "https://localhost:8080/"
        },
        "id": "2S8jsH65-Yc9",
        "outputId": "9eadd52c-4855-416c-8411-9ad9decdc7ea"
      },
      "outputs": [
        {
          "data": {
            "text/plain": [
              "56"
            ]
          },
          "execution_count": 6,
          "metadata": {},
          "output_type": "execute_result"
        }
      ],
      "source": [
        "gh_2=gh[1]\n",
        "gh_2"
      ]
    },
    {
      "cell_type": "markdown",
      "metadata": {
        "id": "QtjL-p1B-llr"
      },
      "source": [
        "**در تمرین دو ما یک لیست با مقدار های رشته و عدد صحیح و یک لیست دیگر داریم**\n",
        "\n",
        "**ما یک لیست جدید میخواهیم بسازیم و مقدار انرا یکی ازمقادیر لیست اولیه میگیریم**\n",
        "\n",
        "**دریکی دیگر ازتمرینات یکی از مقدار های لیت داخلی لیست اولیه که مد نظر ماست با استفاده از اندیس ها میابیم**\n",
        "\n",
        "**gh [m] [n]**"
      ]
    },
    {
      "cell_type": "markdown",
      "metadata": {
        "id": "XA_9RCyAAQEN"
      },
      "source": [
        "**تمرین 3 :**"
      ]
    },
    {
      "cell_type": "code",
      "execution_count": 7,
      "metadata": {
        "id": "ATkpgzRQAX8Z"
      },
      "outputs": [],
      "source": [
        "list_5=['g','h','i']"
      ]
    },
    {
      "cell_type": "code",
      "execution_count": 8,
      "metadata": {
        "colab": {
          "base_uri": "https://localhost:8080/"
        },
        "id": "Mskr-bVTA3hA",
        "outputId": "0a74e9c4-a1cc-4397-e0a0-05e850f5cc76"
      },
      "outputs": [
        {
          "data": {
            "text/plain": [
              "['g', 'h', 'i']"
            ]
          },
          "execution_count": 8,
          "metadata": {},
          "output_type": "execute_result"
        }
      ],
      "source": [
        "list_5"
      ]
    },
    {
      "cell_type": "code",
      "execution_count": 9,
      "metadata": {
        "colab": {
          "base_uri": "https://localhost:8080/"
        },
        "id": "CYp6eSJbA6RW",
        "outputId": "655fcb92-f529-44b9-b73f-10684a35eefb"
      },
      "outputs": [
        {
          "data": {
            "text/plain": [
              "['g', 'h', 'i', 'j']"
            ]
          },
          "execution_count": 9,
          "metadata": {},
          "output_type": "execute_result"
        }
      ],
      "source": [
        "list_5.append('j')\n",
        "list_5"
      ]
    },
    {
      "cell_type": "code",
      "execution_count": 10,
      "metadata": {
        "colab": {
          "base_uri": "https://localhost:8080/"
        },
        "id": "AyWve9ChBIQR",
        "outputId": "1a3214d1-4869-4ddc-cbf9-563d1de09a0b"
      },
      "outputs": [
        {
          "data": {
            "text/plain": [
              "['g', 'reza', 'i', 'j']"
            ]
          },
          "execution_count": 10,
          "metadata": {},
          "output_type": "execute_result"
        }
      ],
      "source": [
        "list_5[1]=\"reza\"\n",
        "list_5"
      ]
    },
    {
      "cell_type": "code",
      "execution_count": 11,
      "metadata": {
        "colab": {
          "base_uri": "https://localhost:8080/"
        },
        "id": "R1BC45BbBWqO",
        "outputId": "05dd86d0-67c0-4054-cfbb-b79baf44a483"
      },
      "outputs": [
        {
          "data": {
            "text/plain": [
              "[10, 20, 30, 40, 50, 60, 70, 80, 90, 100]"
            ]
          },
          "execution_count": 11,
          "metadata": {},
          "output_type": "execute_result"
        }
      ],
      "source": [
        "list_4=[10,20,30,40,50,60,70,80,90,100]\n",
        "list_4"
      ]
    },
    {
      "cell_type": "code",
      "execution_count": 13,
      "metadata": {
        "colab": {
          "base_uri": "https://localhost:8080/"
        },
        "id": "_wQODnasBf1E",
        "outputId": "31b8792e-64f3-47af-f0c2-b47ef4944feb"
      },
      "outputs": [
        {
          "data": {
            "text/plain": [
              "[10, 20, 30, 40, 50, 'reza', 70, 80, 90, 100]"
            ]
          },
          "execution_count": 13,
          "metadata": {},
          "output_type": "execute_result"
        }
      ],
      "source": [
        "list_4[5]=\"reza\"\n",
        "list_4"
      ]
    },
    {
      "cell_type": "code",
      "execution_count": 14,
      "metadata": {
        "colab": {
          "base_uri": "https://localhost:8080/"
        },
        "id": "OEKavgPWByIj",
        "outputId": "f847749f-19cd-4a0d-db60-64edbb804292"
      },
      "outputs": [
        {
          "data": {
            "text/plain": [
              "[10, 20, 30, 40, 50, 'reza', 70, 'banana', 80, 90, 100]"
            ]
          },
          "execution_count": 14,
          "metadata": {},
          "output_type": "execute_result"
        }
      ],
      "source": [
        "list_4.insert(7,\"banana\")\n",
        "list_4"
      ]
    },
    {
      "cell_type": "markdown",
      "metadata": {
        "id": "DomldWbDCQKd"
      },
      "source": [
        "**در اینجا از دو متد که برای  لیست ها استفاده میشه استفاده کردیم:**\n",
        "\n",
        "1.  append()\n",
        "2.  insert()\n",
        "\n",
        "**append() :**\n",
        "\n",
        "**این متد شی را به انتهای لیست اضافه میکند**\n",
        "\n",
        "**insert() :**\n",
        "\n",
        "**این متد برای درج عنصری در لیست به کار میرود این دستور به صورت زیر است**\n",
        "\n",
        "x.insert( i , value )\n",
        "\n",
        "این دستور مقدار\n",
        "\n",
        "value\n",
        "\n",
        "را در اندیس \n",
        "\n",
        "i\n",
        "\n",
        "در لیست \n",
        "\n",
        "x\n",
        "\n",
        "درج میکند و هر یک از عناصر تا انتهای لیست را به محل سمت راست شیفت میدهد\n",
        "\n",
        "**همین طور در این تمرین از عملگر انتساب = برای انتساب اشیای جدید به عناصر لیست استفاده کردیم که میتوانیم با این عملگر محتوای لیست را تغییر دهیم**\n",
        "\n"
      ]
    },
    {
      "cell_type": "markdown",
      "metadata": {
        "id": "mL4Cs5ycGHkw"
      },
      "source": [
        "**تمرین 4 :**"
      ]
    },
    {
      "cell_type": "code",
      "execution_count": 15,
      "metadata": {
        "id": "McJaSr8sElpF"
      },
      "outputs": [],
      "source": [
        "list_7=[7,8,6,['ahmad',45,['arrow']]]"
      ]
    },
    {
      "cell_type": "code",
      "execution_count": 16,
      "metadata": {
        "colab": {
          "base_uri": "https://localhost:8080/"
        },
        "id": "p-vvc-wKE-9i",
        "outputId": "6b75ec19-7018-4f6d-93af-ac6d494e465b"
      },
      "outputs": [
        {
          "data": {
            "text/plain": [
              "[7, 8, 6, ['ahmad', 45, ['arrow']]]"
            ]
          },
          "execution_count": 16,
          "metadata": {},
          "output_type": "execute_result"
        }
      ],
      "source": [
        "list_7"
      ]
    },
    {
      "cell_type": "code",
      "execution_count": 17,
      "metadata": {
        "colab": {
          "base_uri": "https://localhost:8080/"
        },
        "id": "A1v2AfTrFCiH",
        "outputId": "7b471c52-d531-4e1b-b092-3bfd8a07e07c"
      },
      "outputs": [
        {
          "data": {
            "text/plain": [
              "['ahmad', 45, ['arrow']]"
            ]
          },
          "execution_count": 17,
          "metadata": {},
          "output_type": "execute_result"
        }
      ],
      "source": [
        "list_7[3]"
      ]
    },
    {
      "cell_type": "code",
      "execution_count": 18,
      "metadata": {
        "colab": {
          "base_uri": "https://localhost:8080/"
        },
        "id": "jT5BEV4hFKJF",
        "outputId": "63789584-2bf5-4137-d5b1-3dbd6ad5d65f"
      },
      "outputs": [
        {
          "data": {
            "text/plain": [
              "['arrow']"
            ]
          },
          "execution_count": 18,
          "metadata": {},
          "output_type": "execute_result"
        }
      ],
      "source": [
        "list_7[3][2]"
      ]
    },
    {
      "cell_type": "code",
      "execution_count": 20,
      "metadata": {
        "colab": {
          "base_uri": "https://localhost:8080/",
          "height": 35
        },
        "id": "vRCim9UUFPbI",
        "outputId": "fbbb8a6f-f7a6-4fe6-c778-1b57ae2d1615"
      },
      "outputs": [
        {
          "data": {
            "application/vnd.google.colaboratory.intrinsic+json": {
              "type": "string"
            },
            "text/plain": [
              "'w'"
            ]
          },
          "execution_count": 20,
          "metadata": {},
          "output_type": "execute_result"
        }
      ],
      "source": [
        "list_7[3][2][0][4]"
      ]
    },
    {
      "cell_type": "code",
      "execution_count": 21,
      "metadata": {
        "colab": {
          "base_uri": "https://localhost:8080/"
        },
        "id": "8OV6PCYIFi9X",
        "outputId": "87b1dc2a-6ce4-4006-92b9-d245469ec2ab"
      },
      "outputs": [
        {
          "data": {
            "text/plain": [
              "[7, 8, 6, ['ahmad', 45, ['arrow', 'reza']]]"
            ]
          },
          "execution_count": 21,
          "metadata": {},
          "output_type": "execute_result"
        }
      ],
      "source": [
        "list_7[3][2].append(\"reza\")\n",
        "list_7"
      ]
    },
    {
      "cell_type": "code",
      "execution_count": 22,
      "metadata": {
        "colab": {
          "base_uri": "https://localhost:8080/",
          "height": 35
        },
        "id": "2G6J8kI8FwkP",
        "outputId": "cd65bcca-e895-4e9b-b827-e909e8944439"
      },
      "outputs": [
        {
          "data": {
            "application/vnd.google.colaboratory.intrinsic+json": {
              "type": "string"
            },
            "text/plain": [
              "'z'"
            ]
          },
          "execution_count": 22,
          "metadata": {},
          "output_type": "execute_result"
        }
      ],
      "source": [
        "list_7[3][2][1][2]"
      ]
    },
    {
      "cell_type": "markdown",
      "metadata": {
        "id": "tf81xET_Ga2D"
      },
      "source": [
        "**در این تمرین ما با استفاده از اندیسها یک مقدار یا متغیر خاصی را پیدا میکنیم**"
      ]
    }
  ],
  "metadata": {
    "colab": {
      "collapsed_sections": [],
      "provenance": []
    },
    "kernelspec": {
      "display_name": "Python 3.7.4 32-bit",
      "language": "python",
      "name": "python3"
    },
    "language_info": {
      "name": "python",
      "version": "3.7.4"
    },
    "vscode": {
      "interpreter": {
        "hash": "11c9591753445219fe13cbfcc3848e5309d06c9f4434cd7a9ae342700745369c"
      }
    }
  },
  "nbformat": 4,
  "nbformat_minor": 0
}
